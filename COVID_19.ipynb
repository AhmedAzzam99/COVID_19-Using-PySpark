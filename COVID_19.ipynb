{
  "cells": [
    {
      "cell_type": "markdown",
      "id": "05f1e8db",
      "metadata": {
        "id": "05f1e8db"
      },
      "source": [
        "# **Labs 1 and 2 PySpark:**\n",
        "\n",
        "In these labs we will be using the \"[[NeurIPS 2020] Data Science for COVID-19 (DS4C)](https://www.kaggle.com/datasets/kimjihoo/coronavirusdataset?select=PatientInfo.csv)\" dataset, retrieved from [Kaggle](https://www.kaggle.com/) on 1/6/2022, for educational non commercial purpose, License\n",
        "[CC BY-NC-SA 4.0\n",
        "](https://creativecommons.org/licenses/by-nc-sa/4.0/)\n",
        "\n",
        "\n",
        "The csv file that we will be using in this lab is **PatientInfo**."
      ]
    },
    {
      "cell_type": "markdown",
      "id": "3ac9bbf0",
      "metadata": {
        "id": "3ac9bbf0"
      },
      "source": [
        "## PatientInfo.csv\n",
        "\n",
        "**patient_id**\n",
        "the ID of the patient\n",
        "\n",
        "**sex**\n",
        "the sex of the patient\n",
        "\n",
        "**age**\n",
        "the age of the patient\n",
        "\n",
        "**country**\n",
        "the country of the patient\n",
        "\n",
        "**province**\n",
        "the province of the patient\n",
        "\n",
        "**city**\n",
        "the city of the patient\n",
        "\n",
        "**infection_case**\n",
        "the case of infection\n",
        "\n",
        "**infected_by**\n",
        "the ID of who infected the patient\n",
        "\n",
        "\n",
        "**contact_number**\n",
        "the number of contacts with people\n",
        "\n",
        "**symptom_onset_date**\n",
        "the date of symptom onset\n",
        "\n",
        "**confirmed_date**\n",
        "the date of being confirmed\n",
        "\n",
        "**released_date**\n",
        "the date of being released\n",
        "\n",
        "**deceased_date**\n",
        "the date of being deceased\n",
        "\n",
        "**state**\n",
        "isolated / released / deceased"
      ]
    },
    {
      "cell_type": "markdown",
      "id": "34b6f619",
      "metadata": {
        "id": "34b6f619"
      },
      "source": [
        "### Import the pyspark and check it's version"
      ]
    },
    {
      "cell_type": "code",
      "execution_count": null,
      "id": "29fe2ddc",
      "metadata": {
        "colab": {
          "base_uri": "https://localhost:8080/"
        },
        "id": "29fe2ddc",
        "outputId": "f1b2cbe8-5c96-4755-a623-2eaa7cdefc60"
      },
      "outputs": [
        {
          "name": "stdout",
          "output_type": "stream",
          "text": [
            "Looking in indexes: https://pypi.org/simple, https://us-python.pkg.dev/colab-wheels/public/simple/\n",
            "Requirement already satisfied: pyspark in /usr/local/lib/python3.7/dist-packages (3.3.0)\n",
            "Requirement already satisfied: py4j==0.10.9.5 in /usr/local/lib/python3.7/dist-packages (from pyspark) (0.10.9.5)\n",
            "3.3.0\n"
          ]
        }
      ],
      "source": [
        "!pip install pyspark\n",
        "import pyspark\n",
        "print(pyspark.__version__)"
      ]
    },
    {
      "cell_type": "code",
      "execution_count": null,
      "id": "aWpz6W5IMiMZ",
      "metadata": {
        "id": "aWpz6W5IMiMZ"
      },
      "outputs": [],
      "source": [
        "import pandas as pd\n",
        "from sklearn.metrics import classification_report\n",
        "from pyspark.sql.functions import *\n",
        "from pyspark.ml.classification import RandomForestClassifier\n",
        "from pyspark.ml.evaluation import MulticlassClassificationEvaluator\n",
        "from pyspark.ml.feature import StringIndexer,OneHotEncoder,Imputer,VectorAssembler\n",
        "from pyspark.ml import Pipeline"
      ]
    },
    {
      "cell_type": "markdown",
      "id": "70c0fc8e",
      "metadata": {
        "id": "70c0fc8e"
      },
      "source": [
        "### Import and create SparkSession"
      ]
    },
    {
      "cell_type": "code",
      "execution_count": null,
      "id": "94904228",
      "metadata": {
        "id": "94904228"
      },
      "outputs": [],
      "source": [
        "from pyspark.sql import SparkSession\n",
        "spark = SparkSession.builder.getOrCreate()"
      ]
    },
    {
      "cell_type": "markdown",
      "id": "7356d68d",
      "metadata": {
        "id": "7356d68d"
      },
      "source": [
        "### Load the PatientInfo.csv file and show the first 5 rows"
      ]
    },
    {
      "cell_type": "code",
      "execution_count": null,
      "id": "d5185728",
      "metadata": {
        "colab": {
          "base_uri": "https://localhost:8080/",
          "height": 17
        },
        "id": "d5185728",
        "outputId": "6833008c-cf2d-402b-83e4-48206a690c87"
      },
      "outputs": [
        {
          "data": {
            "text/html": [
              "<style>pre { white-space: pre !important; }</style>"
            ],
            "text/plain": [
              "<IPython.core.display.HTML object>"
            ]
          },
          "metadata": {},
          "output_type": "display_data"
        }
      ],
      "source": [
        "from IPython.display import display, HTML\n",
        "display(HTML(\"<style>pre { white-space: pre !important; }</style>\"))"
      ]
    },
    {
      "cell_type": "code",
      "execution_count": null,
      "id": "2196bca5",
      "metadata": {
        "colab": {
          "base_uri": "https://localhost:8080/"
        },
        "id": "2196bca5",
        "outputId": "601c9fee-b016-4f21-9b7d-d133276ad013"
      },
      "outputs": [
        {
          "name": "stdout",
          "output_type": "stream",
          "text": [
            "+----------+------+---+-------+--------+-----------+--------------------+-----------+--------------+------------------+-------------------+-------------------+-------------+--------+\n",
            "|patient_id|   sex|age|country|province|       city|      infection_case|infected_by|contact_number|symptom_onset_date|     confirmed_date|      released_date|deceased_date|   state|\n",
            "+----------+------+---+-------+--------+-----------+--------------------+-----------+--------------+------------------+-------------------+-------------------+-------------+--------+\n",
            "|1000000001|  male|50s|  Korea|   Seoul| Gangseo-gu|     overseas inflow|       null|            75|        2020-01-22|2020-01-23 00:00:00|2020-02-05 00:00:00|         null|released|\n",
            "|1000000002|  male|30s|  Korea|   Seoul|Jungnang-gu|     overseas inflow|       null|            31|              null|2020-01-30 00:00:00|2020-03-02 00:00:00|         null|released|\n",
            "|1000000003|  male|50s|  Korea|   Seoul|  Jongno-gu|contact with patient| 2002000001|            17|              null|2020-01-30 00:00:00|2020-02-19 00:00:00|         null|released|\n",
            "|1000000004|  male|20s|  Korea|   Seoul|    Mapo-gu|     overseas inflow|       null|             9|        2020-01-26|2020-01-30 00:00:00|2020-02-15 00:00:00|         null|released|\n",
            "|1000000005|female|20s|  Korea|   Seoul|Seongbuk-gu|contact with patient| 1000000002|             2|              null|2020-01-31 00:00:00|2020-02-24 00:00:00|         null|released|\n",
            "|1000000006|female|50s|  Korea|   Seoul|  Jongno-gu|contact with patient| 1000000003|            43|              null|2020-01-31 00:00:00|2020-02-19 00:00:00|         null|released|\n",
            "|1000000007|  male|20s|  Korea|   Seoul|  Jongno-gu|contact with patient| 1000000003|             0|              null|2020-01-31 00:00:00|2020-02-10 00:00:00|         null|released|\n",
            "|1000000008|  male|20s|  Korea|   Seoul|        etc|     overseas inflow|       null|             0|              null|2020-02-02 00:00:00|2020-02-24 00:00:00|         null|released|\n",
            "|1000000009|  male|30s|  Korea|   Seoul|  Songpa-gu|     overseas inflow|       null|            68|              null|2020-02-05 00:00:00|2020-02-21 00:00:00|         null|released|\n",
            "|1000000010|female|60s|  Korea|   Seoul|Seongbuk-gu|contact with patient| 1000000003|             6|              null|2020-02-05 00:00:00|2020-02-29 00:00:00|         null|released|\n",
            "+----------+------+---+-------+--------+-----------+--------------------+-----------+--------------+------------------+-------------------+-------------------+-------------+--------+\n",
            "only showing top 10 rows\n",
            "\n"
          ]
        }
      ],
      "source": [
        "df  = spark.read.csv(\"/content/sample_data/PatientInfo.csv\",header=True,inferSchema=True)\n",
        "df.show(10)"
      ]
    },
    {
      "cell_type": "markdown",
      "id": "4d43bdca",
      "metadata": {
        "id": "4d43bdca"
      },
      "source": [
        "### Display the schema of the dataset"
      ]
    },
    {
      "cell_type": "code",
      "execution_count": null,
      "id": "c51a2507",
      "metadata": {
        "colab": {
          "base_uri": "https://localhost:8080/"
        },
        "id": "c51a2507",
        "outputId": "ece05d1a-b324-459f-ba4f-19014a884ef0"
      },
      "outputs": [
        {
          "name": "stdout",
          "output_type": "stream",
          "text": [
            "root\n",
            " |-- patient_id: long (nullable = true)\n",
            " |-- sex: string (nullable = true)\n",
            " |-- age: string (nullable = true)\n",
            " |-- country: string (nullable = true)\n",
            " |-- province: string (nullable = true)\n",
            " |-- city: string (nullable = true)\n",
            " |-- infection_case: string (nullable = true)\n",
            " |-- infected_by: string (nullable = true)\n",
            " |-- contact_number: string (nullable = true)\n",
            " |-- symptom_onset_date: string (nullable = true)\n",
            " |-- confirmed_date: timestamp (nullable = true)\n",
            " |-- released_date: timestamp (nullable = true)\n",
            " |-- deceased_date: timestamp (nullable = true)\n",
            " |-- state: string (nullable = true)\n",
            "\n"
          ]
        }
      ],
      "source": [
        "df.printSchema()"
      ]
    },
    {
      "cell_type": "markdown",
      "id": "3114e1dd",
      "metadata": {
        "id": "3114e1dd"
      },
      "source": [
        "### Display the statistical summary"
      ]
    },
    {
      "cell_type": "code",
      "execution_count": null,
      "id": "18d63947",
      "metadata": {
        "colab": {
          "base_uri": "https://localhost:8080/"
        },
        "id": "18d63947",
        "outputId": "8d83ce42-2936-4dea-b9ba-6aec0944628d"
      },
      "outputs": [
        {
          "name": "stdout",
          "output_type": "stream",
          "text": [
            "+-------+--------------------+------+----+----------+--------+--------------+--------------------+--------------------+--------------------+------------------+--------+\n",
            "|summary|          patient_id|   sex| age|   country|province|          city|      infection_case|         infected_by|      contact_number|symptom_onset_date|   state|\n",
            "+-------+--------------------+------+----+----------+--------+--------------+--------------------+--------------------+--------------------+------------------+--------+\n",
            "|  count|                5165|  4043|3785|      5165|    5165|          5071|                4246|                1346|                 791|               690|    5165|\n",
            "|   mean|2.8636345618679576E9|  null|null|      null|    null|          null|                null|2.2845944015643125E9|1.6772572523506988E7|              null|    null|\n",
            "| stddev| 2.074210725277473E9|  null|null|      null|    null|          null|                null|1.5265072953383324E9| 3.093097580985502E8|              null|    null|\n",
            "|    min|          1000000001|female|  0s|Bangladesh|   Busan|     Andong-si|Anyang Gunpo Past...|          1000000002|                   -|                  |deceased|\n",
            "|    25%|          1000001291|  null|null|      null|    null|          null|                null|       1.400000102E9|                 2.0|              null|    null|\n",
            "|    50%|          2000000369|  null|null|      null|    null|          null|                null|       2.000000167E9|                 4.0|              null|    null|\n",
            "|    75%|          6001000115|  null|null|      null|    null|          null|                null|       2.000000975E9|                14.0|              null|    null|\n",
            "|    max|          7000000019|  male| 90s|   Vietnam|   Ulsan|sankyeock-dong|     overseas inflow|          7000000009|                  95|        2020-06-28|released|\n",
            "+-------+--------------------+------+----+----------+--------+--------------+--------------------+--------------------+--------------------+------------------+--------+\n",
            "\n"
          ]
        }
      ],
      "source": [
        "df.summary().show()"
      ]
    },
    {
      "cell_type": "markdown",
      "id": "c78859b9",
      "metadata": {
        "id": "c78859b9"
      },
      "source": [
        "### Using the state column.\n",
        "### How many people survived (released), and how many didn't survive (isolated/deceased)?"
      ]
    },
    {
      "cell_type": "code",
      "execution_count": null,
      "id": "63e84045",
      "metadata": {
        "colab": {
          "base_uri": "https://localhost:8080/"
        },
        "id": "63e84045",
        "outputId": "566f0ca3-554e-4ad3-c8b4-661d13371112"
      },
      "outputs": [
        {
          "name": "stdout",
          "output_type": "stream",
          "text": [
            "+--------+-----------------+\n",
            "|   state|count(patient_id)|\n",
            "+--------+-----------------+\n",
            "|isolated|             2158|\n",
            "|released|             2929|\n",
            "|deceased|               78|\n",
            "+--------+-----------------+\n",
            "\n"
          ]
        }
      ],
      "source": [
        "df.select('patient_id', 'state').groupBy('state').agg(count(col('patient_id'))).show()"
      ]
    },
    {
      "cell_type": "markdown",
      "id": "59c16346",
      "metadata": {
        "id": "59c16346"
      },
      "source": [
        "### Display the number of null values in each column"
      ]
    },
    {
      "cell_type": "code",
      "execution_count": null,
      "id": "4adc0ab6",
      "metadata": {
        "colab": {
          "base_uri": "https://localhost:8080/"
        },
        "id": "4adc0ab6",
        "outputId": "07b00602-6017-4f79-c4ac-93bcd5816703"
      },
      "outputs": [
        {
          "name": "stdout",
          "output_type": "stream",
          "text": [
            "+----------+----+----+-------+--------+----+--------------+-----------+--------------+------------------+--------------+-------------+-------------+-----+\n",
            "|patient_id| sex| age|country|province|city|infection_case|infected_by|contact_number|symptom_onset_date|confirmed_date|released_date|deceased_date|state|\n",
            "+----------+----+----+-------+--------+----+--------------+-----------+--------------+------------------+--------------+-------------+-------------+-----+\n",
            "|         0|1122|1380|      0|       0|  94|           919|       3819|          4374|              4475|             3|         3578|         5099|    0|\n",
            "+----------+----+----+-------+--------+----+--------------+-----------+--------------+------------------+--------------+-------------+-------------+-----+\n",
            "\n"
          ]
        }
      ],
      "source": [
        "df.select([count(when(isnull(c) | col(c).isNull(), c)).alias(c) for c in df.columns]).show()"
      ]
    },
    {
      "cell_type": "markdown",
      "id": "c3133f5a",
      "metadata": {
        "id": "c3133f5a"
      },
      "source": [
        "## Data preprocessing"
      ]
    },
    {
      "cell_type": "markdown",
      "id": "ec32fa0c",
      "metadata": {
        "id": "ec32fa0c"
      },
      "source": [
        "### Fill the nulls in the deceased_date with the released_date. \n",
        "- You can use <b>coalesce</b> function"
      ]
    },
    {
      "cell_type": "code",
      "execution_count": null,
      "id": "d5ba64f9",
      "metadata": {
        "colab": {
          "base_uri": "https://localhost:8080/"
        },
        "id": "d5ba64f9",
        "outputId": "14a5e2d1-7e78-4ebc-d0f1-febc5977b4f0"
      },
      "outputs": [
        {
          "name": "stdout",
          "output_type": "stream",
          "text": [
            "+----------+------+---+-------+--------+-----------+--------------------+-----------+--------------+------------------+-------------------+-------------------+-------------------+--------+\n",
            "|patient_id|   sex|age|country|province|       city|      infection_case|infected_by|contact_number|symptom_onset_date|     confirmed_date|      released_date|      deceased_date|   state|\n",
            "+----------+------+---+-------+--------+-----------+--------------------+-----------+--------------+------------------+-------------------+-------------------+-------------------+--------+\n",
            "|1000000001|  male|50s|  Korea|   Seoul| Gangseo-gu|     overseas inflow|       null|            75|        2020-01-22|2020-01-23 00:00:00|2020-02-05 00:00:00|2020-02-05 00:00:00|released|\n",
            "|1000000002|  male|30s|  Korea|   Seoul|Jungnang-gu|     overseas inflow|       null|            31|              null|2020-01-30 00:00:00|2020-03-02 00:00:00|2020-03-02 00:00:00|released|\n",
            "|1000000003|  male|50s|  Korea|   Seoul|  Jongno-gu|contact with patient| 2002000001|            17|              null|2020-01-30 00:00:00|2020-02-19 00:00:00|2020-02-19 00:00:00|released|\n",
            "|1000000004|  male|20s|  Korea|   Seoul|    Mapo-gu|     overseas inflow|       null|             9|        2020-01-26|2020-01-30 00:00:00|2020-02-15 00:00:00|2020-02-15 00:00:00|released|\n",
            "|1000000005|female|20s|  Korea|   Seoul|Seongbuk-gu|contact with patient| 1000000002|             2|              null|2020-01-31 00:00:00|2020-02-24 00:00:00|2020-02-24 00:00:00|released|\n",
            "+----------+------+---+-------+--------+-----------+--------------------+-----------+--------------+------------------+-------------------+-------------------+-------------------+--------+\n",
            "only showing top 5 rows\n",
            "\n"
          ]
        }
      ],
      "source": [
        "# df['deceased_date'].na.fill(value=0,subset=[\"population\"]).show()\n",
        "df_2=df.withColumn('deceased_date',when(df['deceased_date'].isNull(),df['released_date']).otherwise(df['deceased_date']))\n",
        "df_2.show(5)"
      ]
    },
    {
      "cell_type": "markdown",
      "id": "4ec324f5",
      "metadata": {
        "id": "4ec324f5"
      },
      "source": [
        "### Add a column named no_days which is difference between the deceased_date and the confirmed_date then show the top 5 rows. Print the schema.\n",
        "- <b> Hint: You need to typecast these columns as date first <b>"
      ]
    },
    {
      "cell_type": "code",
      "execution_count": null,
      "id": "d065e472",
      "metadata": {
        "id": "d065e472"
      },
      "outputs": [],
      "source": [
        "for c in ['deceased_date','confirmed_date','released_date']:\n",
        "  df_2= df_2.withColumn(c,to_date(col(c)))\n",
        "df_3= df_2.withColumn(\"no_days\", datediff('deceased_date','confirmed_date'))"
      ]
    },
    {
      "cell_type": "code",
      "execution_count": null,
      "id": "D-yvGH8yTsIB",
      "metadata": {
        "colab": {
          "base_uri": "https://localhost:8080/"
        },
        "id": "D-yvGH8yTsIB",
        "outputId": "10818ff5-0894-4f92-84cc-b2246af05f46"
      },
      "outputs": [
        {
          "name": "stdout",
          "output_type": "stream",
          "text": [
            "root\n",
            " |-- patient_id: long (nullable = true)\n",
            " |-- sex: string (nullable = true)\n",
            " |-- age: string (nullable = true)\n",
            " |-- country: string (nullable = true)\n",
            " |-- province: string (nullable = true)\n",
            " |-- city: string (nullable = true)\n",
            " |-- infection_case: string (nullable = true)\n",
            " |-- infected_by: string (nullable = true)\n",
            " |-- contact_number: string (nullable = true)\n",
            " |-- symptom_onset_date: string (nullable = true)\n",
            " |-- confirmed_date: date (nullable = true)\n",
            " |-- released_date: date (nullable = true)\n",
            " |-- deceased_date: date (nullable = true)\n",
            " |-- state: string (nullable = true)\n",
            " |-- no_days: integer (nullable = true)\n",
            "\n"
          ]
        }
      ],
      "source": [
        "df_3.printSchema()"
      ]
    },
    {
      "cell_type": "markdown",
      "id": "967b2466",
      "metadata": {
        "id": "967b2466"
      },
      "source": [
        "### Add a is_male column if male then it should yield true, else then False"
      ]
    },
    {
      "cell_type": "code",
      "execution_count": null,
      "id": "8efe03b5",
      "metadata": {
        "colab": {
          "base_uri": "https://localhost:8080/"
        },
        "id": "8efe03b5",
        "outputId": "9f49d4bd-0661-48bb-af7a-fc153f4ce843"
      },
      "outputs": [
        {
          "name": "stdout",
          "output_type": "stream",
          "text": [
            "+----------+------+---+-------+--------+-----------+--------------------+-----------+--------------+------------------+--------------+-------------+-------------+--------+-------+-------+\n",
            "|patient_id|   sex|age|country|province|       city|      infection_case|infected_by|contact_number|symptom_onset_date|confirmed_date|released_date|deceased_date|   state|no_days|is_male|\n",
            "+----------+------+---+-------+--------+-----------+--------------------+-----------+--------------+------------------+--------------+-------------+-------------+--------+-------+-------+\n",
            "|1000000001|  male|50s|  Korea|   Seoul| Gangseo-gu|     overseas inflow|       null|            75|        2020-01-22|    2020-01-23|   2020-02-05|   2020-02-05|released|     13|      1|\n",
            "|1000000002|  male|30s|  Korea|   Seoul|Jungnang-gu|     overseas inflow|       null|            31|              null|    2020-01-30|   2020-03-02|   2020-03-02|released|     32|      1|\n",
            "|1000000003|  male|50s|  Korea|   Seoul|  Jongno-gu|contact with patient| 2002000001|            17|              null|    2020-01-30|   2020-02-19|   2020-02-19|released|     20|      1|\n",
            "|1000000004|  male|20s|  Korea|   Seoul|    Mapo-gu|     overseas inflow|       null|             9|        2020-01-26|    2020-01-30|   2020-02-15|   2020-02-15|released|     16|      1|\n",
            "|1000000005|female|20s|  Korea|   Seoul|Seongbuk-gu|contact with patient| 1000000002|             2|              null|    2020-01-31|   2020-02-24|   2020-02-24|released|     24|      0|\n",
            "+----------+------+---+-------+--------+-----------+--------------------+-----------+--------------+------------------+--------------+-------------+-------------+--------+-------+-------+\n",
            "only showing top 5 rows\n",
            "\n"
          ]
        }
      ],
      "source": [
        "df_3=df_3.na.fill(\"female\",[\"sex\"])\n",
        "df_4= df_3.withColumn(\"is_male\",(col('sex')=='male').cast('int'))\n",
        "df_4.show(5)"
      ]
    },
    {
      "cell_type": "markdown",
      "id": "8603d7c0",
      "metadata": {
        "id": "8603d7c0"
      },
      "source": [
        "### Add a is_dead column if patient state is not released then it should yield true, else then False\n",
        "\n",
        "- Use <b>UDF</b> to perform this task. \n",
        "- However, UDF is not recommended there is no built in function can do the required operation.\n",
        "- UDF is slower than built in functions."
      ]
    },
    {
      "cell_type": "code",
      "execution_count": null,
      "id": "d3343075",
      "metadata": {
        "colab": {
          "base_uri": "https://localhost:8080/"
        },
        "id": "d3343075",
        "outputId": "f2189c19-c834-4d30-bb09-4b4192305fdf"
      },
      "outputs": [
        {
          "name": "stdout",
          "output_type": "stream",
          "text": [
            "+----------+------+---+-------+--------+------------+--------------------+-----------+--------------+------------------+--------------+-------------+-------------+--------+-------+-------+-------+\n",
            "|patient_id|   sex|age|country|province|        city|      infection_case|infected_by|contact_number|symptom_onset_date|confirmed_date|released_date|deceased_date|   state|no_days|is_male|is_Dead|\n",
            "+----------+------+---+-------+--------+------------+--------------------+-----------+--------------+------------------+--------------+-------------+-------------+--------+-------+-------+-------+\n",
            "|1000000001|  male|50s|  Korea|   Seoul|  Gangseo-gu|     overseas inflow|       null|            75|        2020-01-22|    2020-01-23|   2020-02-05|   2020-02-05|released|     13|      1|      0|\n",
            "|1000000002|  male|30s|  Korea|   Seoul| Jungnang-gu|     overseas inflow|       null|            31|              null|    2020-01-30|   2020-03-02|   2020-03-02|released|     32|      1|      0|\n",
            "|1000000003|  male|50s|  Korea|   Seoul|   Jongno-gu|contact with patient| 2002000001|            17|              null|    2020-01-30|   2020-02-19|   2020-02-19|released|     20|      1|      0|\n",
            "|1000000004|  male|20s|  Korea|   Seoul|     Mapo-gu|     overseas inflow|       null|             9|        2020-01-26|    2020-01-30|   2020-02-15|   2020-02-15|released|     16|      1|      0|\n",
            "|1000000005|female|20s|  Korea|   Seoul| Seongbuk-gu|contact with patient| 1000000002|             2|              null|    2020-01-31|   2020-02-24|   2020-02-24|released|     24|      0|      0|\n",
            "|1000000006|female|50s|  Korea|   Seoul|   Jongno-gu|contact with patient| 1000000003|            43|              null|    2020-01-31|   2020-02-19|   2020-02-19|released|     19|      0|      0|\n",
            "|1000000007|  male|20s|  Korea|   Seoul|   Jongno-gu|contact with patient| 1000000003|             0|              null|    2020-01-31|   2020-02-10|   2020-02-10|released|     10|      1|      0|\n",
            "|1000000008|  male|20s|  Korea|   Seoul|         etc|     overseas inflow|       null|             0|              null|    2020-02-02|   2020-02-24|   2020-02-24|released|     22|      1|      0|\n",
            "|1000000009|  male|30s|  Korea|   Seoul|   Songpa-gu|     overseas inflow|       null|            68|              null|    2020-02-05|   2020-02-21|   2020-02-21|released|     16|      1|      0|\n",
            "|1000000010|female|60s|  Korea|   Seoul| Seongbuk-gu|contact with patient| 1000000003|             6|              null|    2020-02-05|   2020-02-29|   2020-02-29|released|     24|      0|      0|\n",
            "|1000000011|female|50s|  China|   Seoul|Seodaemun-gu|     overseas inflow|       null|            23|              null|    2020-02-06|   2020-02-29|   2020-02-29|released|     23|      0|      0|\n",
            "|1000000012|  male|20s|  Korea|   Seoul|         etc|     overseas inflow|       null|             0|              null|    2020-02-07|   2020-02-27|   2020-02-27|released|     20|      1|      0|\n",
            "|1000000013|  male|80s|  Korea|   Seoul|   Jongno-gu|contact with patient| 1000000017|           117|              null|    2020-02-16|         null|         null|deceased|   null|      1|      1|\n",
            "|1000000014|female|60s|  Korea|   Seoul|   Jongno-gu|contact with patient| 1000000013|            27|        2020-02-06|    2020-02-16|   2020-03-12|   2020-03-12|released|     25|      0|      0|\n",
            "|1000000015|  male|70s|  Korea|   Seoul|Seongdong-gu|    Seongdong-gu APT|       null|             8|        2020-02-11|    2020-02-19|         null|         null|released|   null|      1|      1|\n",
            "|1000000016|  male|70s|  Korea|   Seoul|   Jongno-gu|contact with patient| 1000000017|          null|              null|    2020-02-19|   2020-03-11|   2020-03-11|released|     21|      1|      0|\n",
            "|1000000017|  male|70s|  Korea|   Seoul|   Jongno-gu|contact with patient| 1000000003|          null|              null|    2020-02-20|   2020-03-01|   2020-03-01|released|     10|      1|      0|\n",
            "|1000000018|  male|20s|  Korea|   Seoul|         etc|                 etc|       null|          null|              null|    2020-02-20|         null|         null|released|   null|      1|      1|\n",
            "|1000000019|female|70s|  Korea|   Seoul|   Jongno-gu|contact with patient| 1000000021|          null|              null|    2020-02-20|   2020-03-08|   2020-03-08|released|     17|      0|      0|\n",
            "|1000000020|female|70s|  Korea|   Seoul|Seongdong-gu|    Seongdong-gu APT| 1000000015|          null|              null|    2020-02-20|         null|         null|released|   null|      0|      1|\n",
            "+----------+------+---+-------+--------+------------+--------------------+-----------+--------------+------------------+--------------+-------------+-------------+--------+-------+-------+-------+\n",
            "only showing top 20 rows\n",
            "\n"
          ]
        }
      ],
      "source": [
        "from pyspark.sql.types import BooleanType\n",
        "@udf (returnType=BooleanType())\n",
        "def is_dead(x):\n",
        "  return x==None\n",
        "df_5= df_4.withColumn('is_Dead',is_dead(col('released_date')).cast('int'))\n",
        "df_5.show()\n",
        "\n"
      ]
    },
    {
      "cell_type": "markdown",
      "id": "e15264a9",
      "metadata": {
        "id": "e15264a9"
      },
      "source": [
        "### Change the ages to bins from 10s, 0s, 10s, 20s,.etc to 0,10, 20"
      ]
    },
    {
      "cell_type": "code",
      "execution_count": null,
      "id": "7a2b57ed",
      "metadata": {
        "colab": {
          "base_uri": "https://localhost:8080/"
        },
        "id": "7a2b57ed",
        "outputId": "6e743a4c-686e-47f5-e77c-354b80cfef2d"
      },
      "outputs": [
        {
          "name": "stdout",
          "output_type": "stream",
          "text": [
            "+----------+------+---+-------+--------+------------+--------------------+-----------+--------------+------------------+--------------+-------------+-------------+--------+-------+-------+-------+\n",
            "|patient_id|   sex|age|country|province|        city|      infection_case|infected_by|contact_number|symptom_onset_date|confirmed_date|released_date|deceased_date|   state|no_days|is_male|is_Dead|\n",
            "+----------+------+---+-------+--------+------------+--------------------+-----------+--------------+------------------+--------------+-------------+-------------+--------+-------+-------+-------+\n",
            "|1000000001|  male| 50|  Korea|   Seoul|  Gangseo-gu|     overseas inflow|       null|            75|        2020-01-22|    2020-01-23|   2020-02-05|   2020-02-05|released|     13|      1|      0|\n",
            "|1000000002|  male| 30|  Korea|   Seoul| Jungnang-gu|     overseas inflow|       null|            31|              null|    2020-01-30|   2020-03-02|   2020-03-02|released|     32|      1|      0|\n",
            "|1000000003|  male| 50|  Korea|   Seoul|   Jongno-gu|contact with patient| 2002000001|            17|              null|    2020-01-30|   2020-02-19|   2020-02-19|released|     20|      1|      0|\n",
            "|1000000004|  male| 20|  Korea|   Seoul|     Mapo-gu|     overseas inflow|       null|             9|        2020-01-26|    2020-01-30|   2020-02-15|   2020-02-15|released|     16|      1|      0|\n",
            "|1000000005|female| 20|  Korea|   Seoul| Seongbuk-gu|contact with patient| 1000000002|             2|              null|    2020-01-31|   2020-02-24|   2020-02-24|released|     24|      0|      0|\n",
            "|1000000006|female| 50|  Korea|   Seoul|   Jongno-gu|contact with patient| 1000000003|            43|              null|    2020-01-31|   2020-02-19|   2020-02-19|released|     19|      0|      0|\n",
            "|1000000007|  male| 20|  Korea|   Seoul|   Jongno-gu|contact with patient| 1000000003|             0|              null|    2020-01-31|   2020-02-10|   2020-02-10|released|     10|      1|      0|\n",
            "|1000000008|  male| 20|  Korea|   Seoul|         etc|     overseas inflow|       null|             0|              null|    2020-02-02|   2020-02-24|   2020-02-24|released|     22|      1|      0|\n",
            "|1000000009|  male| 30|  Korea|   Seoul|   Songpa-gu|     overseas inflow|       null|            68|              null|    2020-02-05|   2020-02-21|   2020-02-21|released|     16|      1|      0|\n",
            "|1000000010|female| 60|  Korea|   Seoul| Seongbuk-gu|contact with patient| 1000000003|             6|              null|    2020-02-05|   2020-02-29|   2020-02-29|released|     24|      0|      0|\n",
            "|1000000011|female| 50|  China|   Seoul|Seodaemun-gu|     overseas inflow|       null|            23|              null|    2020-02-06|   2020-02-29|   2020-02-29|released|     23|      0|      0|\n",
            "|1000000012|  male| 20|  Korea|   Seoul|         etc|     overseas inflow|       null|             0|              null|    2020-02-07|   2020-02-27|   2020-02-27|released|     20|      1|      0|\n",
            "|1000000013|  male| 80|  Korea|   Seoul|   Jongno-gu|contact with patient| 1000000017|           117|              null|    2020-02-16|         null|         null|deceased|   null|      1|      1|\n",
            "|1000000014|female| 60|  Korea|   Seoul|   Jongno-gu|contact with patient| 1000000013|            27|        2020-02-06|    2020-02-16|   2020-03-12|   2020-03-12|released|     25|      0|      0|\n",
            "|1000000015|  male| 70|  Korea|   Seoul|Seongdong-gu|    Seongdong-gu APT|       null|             8|        2020-02-11|    2020-02-19|         null|         null|released|   null|      1|      1|\n",
            "|1000000016|  male| 70|  Korea|   Seoul|   Jongno-gu|contact with patient| 1000000017|          null|              null|    2020-02-19|   2020-03-11|   2020-03-11|released|     21|      1|      0|\n",
            "|1000000017|  male| 70|  Korea|   Seoul|   Jongno-gu|contact with patient| 1000000003|          null|              null|    2020-02-20|   2020-03-01|   2020-03-01|released|     10|      1|      0|\n",
            "|1000000018|  male| 20|  Korea|   Seoul|         etc|                 etc|       null|          null|              null|    2020-02-20|         null|         null|released|   null|      1|      1|\n",
            "|1000000019|female| 70|  Korea|   Seoul|   Jongno-gu|contact with patient| 1000000021|          null|              null|    2020-02-20|   2020-03-08|   2020-03-08|released|     17|      0|      0|\n",
            "|1000000020|female| 70|  Korea|   Seoul|Seongdong-gu|    Seongdong-gu APT| 1000000015|          null|              null|    2020-02-20|         null|         null|released|   null|      0|      1|\n",
            "+----------+------+---+-------+--------+------------+--------------------+-----------+--------------+------------------+--------------+-------------+-------------+--------+-------+-------+-------+\n",
            "only showing top 20 rows\n",
            "\n"
          ]
        }
      ],
      "source": [
        "\n",
        "df_6= df_5.withColumn('age',substring_index(col('age'),'s',1))\n",
        "df_6.show()"
      ]
    },
    {
      "cell_type": "markdown",
      "id": "43cdf846",
      "metadata": {
        "id": "43cdf846"
      },
      "source": [
        "### Change age, and no_days  to be typecasted as Double"
      ]
    },
    {
      "cell_type": "code",
      "execution_count": null,
      "id": "dfea7fcb",
      "metadata": {
        "id": "dfea7fcb"
      },
      "outputs": [],
      "source": [
        "for c in ['age','no_days']:\n",
        "  df_6=df_6.withColumn(c,df_6[c].cast('double'))"
      ]
    },
    {
      "cell_type": "code",
      "execution_count": null,
      "id": "GQD2bjQCZ39m",
      "metadata": {
        "colab": {
          "base_uri": "https://localhost:8080/"
        },
        "id": "GQD2bjQCZ39m",
        "outputId": "61576004-a82b-41ef-874c-ab085ac3d385"
      },
      "outputs": [
        {
          "name": "stdout",
          "output_type": "stream",
          "text": [
            "root\n",
            " |-- patient_id: long (nullable = true)\n",
            " |-- sex: string (nullable = false)\n",
            " |-- age: double (nullable = true)\n",
            " |-- country: string (nullable = true)\n",
            " |-- province: string (nullable = true)\n",
            " |-- city: string (nullable = true)\n",
            " |-- infection_case: string (nullable = true)\n",
            " |-- infected_by: string (nullable = true)\n",
            " |-- contact_number: string (nullable = true)\n",
            " |-- symptom_onset_date: string (nullable = true)\n",
            " |-- confirmed_date: date (nullable = true)\n",
            " |-- released_date: date (nullable = true)\n",
            " |-- deceased_date: date (nullable = true)\n",
            " |-- state: string (nullable = true)\n",
            " |-- no_days: double (nullable = true)\n",
            " |-- is_male: integer (nullable = false)\n",
            " |-- is_Dead: integer (nullable = true)\n",
            "\n"
          ]
        }
      ],
      "source": [
        "df_6.printSchema()"
      ]
    },
    {
      "cell_type": "markdown",
      "id": "d31e3a87",
      "metadata": {
        "id": "d31e3a87"
      },
      "source": [
        "### Drop the columns\n",
        "[\"patient_id\",\"sex\",\"infected_by\",\"contact_number\",\"released_date\",\"state\",\n",
        "\"symptom_onset_date\",\"confirmed_date\",\"deceased_date\",\"country\",\"no_days\",\n",
        "\"city\",\"infection_case\"]"
      ]
    },
    {
      "cell_type": "code",
      "execution_count": null,
      "id": "3ae0c428",
      "metadata": {
        "id": "3ae0c428"
      },
      "outputs": [],
      "source": [
        "df_7=df_6.drop(*(\"patient_id\",\"sex\",\"infected_by\",\"contact_number\",\"released_date\",\"state\", \"symptom_onset_date\",\"confirmed_date\",\"deceased_date\",\"country\",\"no_days\", \"city\",\"infection_case\"))"
      ]
    },
    {
      "cell_type": "code",
      "execution_count": null,
      "id": "kWOzdwySbVTZ",
      "metadata": {
        "colab": {
          "base_uri": "https://localhost:8080/"
        },
        "id": "kWOzdwySbVTZ",
        "outputId": "f0bfa21f-4ac0-4ee4-e978-fb834ce14bf0"
      },
      "outputs": [
        {
          "name": "stdout",
          "output_type": "stream",
          "text": [
            "root\n",
            " |-- age: double (nullable = true)\n",
            " |-- province: string (nullable = true)\n",
            " |-- is_male: integer (nullable = false)\n",
            " |-- is_Dead: integer (nullable = true)\n",
            "\n"
          ]
        }
      ],
      "source": [
        "df_7.printSchema()"
      ]
    },
    {
      "cell_type": "code",
      "execution_count": null,
      "id": "yNfi9rEccZVc",
      "metadata": {
        "colab": {
          "base_uri": "https://localhost:8080/"
        },
        "id": "yNfi9rEccZVc",
        "outputId": "3c5fa41e-bc84-48af-b09e-bfac06304197"
      },
      "outputs": [
        {
          "name": "stdout",
          "output_type": "stream",
          "text": [
            "+----+--------+-------+-------+\n",
            "| age|province|is_male|is_Dead|\n",
            "+----+--------+-------+-------+\n",
            "|50.0|   Seoul|      1|      0|\n",
            "|30.0|   Seoul|      1|      0|\n",
            "|50.0|   Seoul|      1|      0|\n",
            "|20.0|   Seoul|      1|      0|\n",
            "|20.0|   Seoul|      0|      0|\n",
            "+----+--------+-------+-------+\n",
            "only showing top 5 rows\n",
            "\n"
          ]
        }
      ],
      "source": [
        "df_7.show(5)"
      ]
    },
    {
      "cell_type": "markdown",
      "id": "32df47a6",
      "metadata": {
        "id": "32df47a6"
      },
      "source": [
        "### Recount the number of nulls now"
      ]
    },
    {
      "cell_type": "code",
      "execution_count": null,
      "id": "6d66eaa7",
      "metadata": {
        "colab": {
          "base_uri": "https://localhost:8080/"
        },
        "id": "6d66eaa7",
        "outputId": "0c37a291-f079-49b9-b4b1-5abd3dc09ea4"
      },
      "outputs": [
        {
          "name": "stdout",
          "output_type": "stream",
          "text": [
            "+----+--------+-------+-------+\n",
            "| age|province|is_male|is_Dead|\n",
            "+----+--------+-------+-------+\n",
            "|1380|       0|      0|      0|\n",
            "+----+--------+-------+-------+\n",
            "\n"
          ]
        }
      ],
      "source": [
        "df_7.select([count(when(col(c).isNull(), c)).alias(c) for c in df_7.columns]).show()"
      ]
    },
    {
      "cell_type": "markdown",
      "id": "cc71f158",
      "metadata": {
        "id": "cc71f158"
      },
      "source": [
        "## Now do the same but using SQL select statement"
      ]
    },
    {
      "cell_type": "markdown",
      "id": "1d540282",
      "metadata": {
        "id": "1d540282"
      },
      "source": [
        "### From the original Patient DataFrame, Create a temporary view (table)."
      ]
    },
    {
      "cell_type": "code",
      "execution_count": null,
      "id": "cf56099f",
      "metadata": {
        "id": "cf56099f"
      },
      "outputs": [],
      "source": [
        "df.createOrReplaceTempView('patientData')"
      ]
    },
    {
      "cell_type": "markdown",
      "id": "cb004277",
      "metadata": {
        "id": "cb004277"
      },
      "source": [
        "### Use SELECT statement to select all columns from the dataframe and show the output."
      ]
    },
    {
      "cell_type": "code",
      "execution_count": null,
      "id": "12ae8226",
      "metadata": {
        "colab": {
          "base_uri": "https://localhost:8080/"
        },
        "id": "12ae8226",
        "outputId": "2d57e44d-7808-4990-a146-d2efc4ccabe2",
        "scrolled": false
      },
      "outputs": [
        {
          "name": "stdout",
          "output_type": "stream",
          "text": [
            "+----------+------+---+-------+--------+-----------+--------------------+-----------+--------------+------------------+-------------------+-------------------+-------------+--------+\n",
            "|patient_id|   sex|age|country|province|       city|      infection_case|infected_by|contact_number|symptom_onset_date|     confirmed_date|      released_date|deceased_date|   state|\n",
            "+----------+------+---+-------+--------+-----------+--------------------+-----------+--------------+------------------+-------------------+-------------------+-------------+--------+\n",
            "|1000000001|  male|50s|  Korea|   Seoul| Gangseo-gu|     overseas inflow|       null|            75|        2020-01-22|2020-01-23 00:00:00|2020-02-05 00:00:00|         null|released|\n",
            "|1000000002|  male|30s|  Korea|   Seoul|Jungnang-gu|     overseas inflow|       null|            31|              null|2020-01-30 00:00:00|2020-03-02 00:00:00|         null|released|\n",
            "|1000000003|  male|50s|  Korea|   Seoul|  Jongno-gu|contact with patient| 2002000001|            17|              null|2020-01-30 00:00:00|2020-02-19 00:00:00|         null|released|\n",
            "|1000000004|  male|20s|  Korea|   Seoul|    Mapo-gu|     overseas inflow|       null|             9|        2020-01-26|2020-01-30 00:00:00|2020-02-15 00:00:00|         null|released|\n",
            "|1000000005|female|20s|  Korea|   Seoul|Seongbuk-gu|contact with patient| 1000000002|             2|              null|2020-01-31 00:00:00|2020-02-24 00:00:00|         null|released|\n",
            "|1000000006|female|50s|  Korea|   Seoul|  Jongno-gu|contact with patient| 1000000003|            43|              null|2020-01-31 00:00:00|2020-02-19 00:00:00|         null|released|\n",
            "|1000000007|  male|20s|  Korea|   Seoul|  Jongno-gu|contact with patient| 1000000003|             0|              null|2020-01-31 00:00:00|2020-02-10 00:00:00|         null|released|\n",
            "|1000000008|  male|20s|  Korea|   Seoul|        etc|     overseas inflow|       null|             0|              null|2020-02-02 00:00:00|2020-02-24 00:00:00|         null|released|\n",
            "|1000000009|  male|30s|  Korea|   Seoul|  Songpa-gu|     overseas inflow|       null|            68|              null|2020-02-05 00:00:00|2020-02-21 00:00:00|         null|released|\n",
            "|1000000010|female|60s|  Korea|   Seoul|Seongbuk-gu|contact with patient| 1000000003|             6|              null|2020-02-05 00:00:00|2020-02-29 00:00:00|         null|released|\n",
            "+----------+------+---+-------+--------+-----------+--------------------+-----------+--------------+------------------+-------------------+-------------------+-------------+--------+\n",
            "only showing top 10 rows\n",
            "\n"
          ]
        }
      ],
      "source": [
        "spark.sql(\"SELECT * FROM patientData\").show(10)"
      ]
    },
    {
      "cell_type": "markdown",
      "id": "e0da4318",
      "metadata": {
        "id": "e0da4318"
      },
      "source": [
        "### *Using SQL commands*, limit the output to only 5 rows "
      ]
    },
    {
      "cell_type": "code",
      "execution_count": null,
      "id": "97911bdd",
      "metadata": {
        "colab": {
          "base_uri": "https://localhost:8080/"
        },
        "id": "97911bdd",
        "outputId": "bf9d4f76-d70e-4ee6-b485-070381aa0820"
      },
      "outputs": [
        {
          "name": "stdout",
          "output_type": "stream",
          "text": [
            "+----------+------+---+-------+--------+-----------+--------------------+-----------+--------------+------------------+-------------------+-------------------+-------------+--------+\n",
            "|patient_id|   sex|age|country|province|       city|      infection_case|infected_by|contact_number|symptom_onset_date|     confirmed_date|      released_date|deceased_date|   state|\n",
            "+----------+------+---+-------+--------+-----------+--------------------+-----------+--------------+------------------+-------------------+-------------------+-------------+--------+\n",
            "|1000000001|  male|50s|  Korea|   Seoul| Gangseo-gu|     overseas inflow|       null|            75|        2020-01-22|2020-01-23 00:00:00|2020-02-05 00:00:00|         null|released|\n",
            "|1000000002|  male|30s|  Korea|   Seoul|Jungnang-gu|     overseas inflow|       null|            31|              null|2020-01-30 00:00:00|2020-03-02 00:00:00|         null|released|\n",
            "|1000000003|  male|50s|  Korea|   Seoul|  Jongno-gu|contact with patient| 2002000001|            17|              null|2020-01-30 00:00:00|2020-02-19 00:00:00|         null|released|\n",
            "|1000000004|  male|20s|  Korea|   Seoul|    Mapo-gu|     overseas inflow|       null|             9|        2020-01-26|2020-01-30 00:00:00|2020-02-15 00:00:00|         null|released|\n",
            "|1000000005|female|20s|  Korea|   Seoul|Seongbuk-gu|contact with patient| 1000000002|             2|              null|2020-01-31 00:00:00|2020-02-24 00:00:00|         null|released|\n",
            "+----------+------+---+-------+--------+-----------+--------------------+-----------+--------------+------------------+-------------------+-------------------+-------------+--------+\n",
            "\n"
          ]
        }
      ],
      "source": [
        "spark.sql(\"SELECT * FROM patientData LIMIT 5\").show(10)"
      ]
    },
    {
      "cell_type": "markdown",
      "id": "b70edf17",
      "metadata": {
        "id": "b70edf17"
      },
      "source": [
        "### Select the count of males and females in the dataset"
      ]
    },
    {
      "cell_type": "code",
      "execution_count": null,
      "id": "00e9fd65",
      "metadata": {
        "colab": {
          "base_uri": "https://localhost:8080/"
        },
        "id": "00e9fd65",
        "outputId": "e679295e-daf1-4945-89f7-0fef2bc3c0f0"
      },
      "outputs": [
        {
          "name": "stdout",
          "output_type": "stream",
          "text": [
            "+------+-----------------+\n",
            "|   sex|count(patient_id)|\n",
            "+------+-----------------+\n",
            "|  null|             1122|\n",
            "|female|             2218|\n",
            "|  male|             1825|\n",
            "+------+-----------------+\n",
            "\n"
          ]
        }
      ],
      "source": [
        "spark.sql(\"SELECT sex ,count(patient_id) FROM patientData GROUP BY sex\").show(5)"
      ]
    },
    {
      "cell_type": "markdown",
      "id": "73683674",
      "metadata": {
        "id": "73683674"
      },
      "source": [
        "### How many people did survive, and how many didn't?"
      ]
    },
    {
      "cell_type": "code",
      "execution_count": null,
      "id": "1e5a3908",
      "metadata": {
        "colab": {
          "base_uri": "https://localhost:8080/"
        },
        "id": "1e5a3908",
        "outputId": "fe73785c-515c-4fd5-c3a4-aea3ca871419"
      },
      "outputs": [
        {
          "name": "stdout",
          "output_type": "stream",
          "text": [
            "+--------+-----------------+\n",
            "|   state|count(patient_id)|\n",
            "+--------+-----------------+\n",
            "|isolated|             2158|\n",
            "|released|             2929|\n",
            "|deceased|               78|\n",
            "+--------+-----------------+\n",
            "\n"
          ]
        }
      ],
      "source": [
        "spark.sql(\"SELECT state ,count(patient_id) FROM patientData GROUP BY state\").show(5)"
      ]
    },
    {
      "cell_type": "markdown",
      "id": "d4424228",
      "metadata": {
        "id": "d4424228"
      },
      "source": [
        "### Now, let's perform some preprocessing using SQL:\n",
        "1. Convert *age* column to double after removing the 's' at the end -- *hint: check SUBSTRING method*\n",
        "2. Select only the following columns: `['sex', 'age', 'province', 'state']`\n",
        "3. Store the result of the query in a new dataframe"
      ]
    },
    {
      "cell_type": "code",
      "execution_count": null,
      "id": "16994e4d",
      "metadata": {
        "id": "16994e4d"
      },
      "outputs": [],
      "source": [
        "df_new=spark.sql('SELECT sex, age, province, state, DOUBLE(SUBSTRING(age,0,2))AS age FROM patientData')"
      ]
    },
    {
      "cell_type": "code",
      "execution_count": null,
      "id": "d3cf4f0f",
      "metadata": {
        "colab": {
          "base_uri": "https://localhost:8080/"
        },
        "id": "d3cf4f0f",
        "outputId": "c22c5e5c-60f0-4094-cce8-4c3c86e2aac0",
        "scrolled": true
      },
      "outputs": [
        {
          "name": "stdout",
          "output_type": "stream",
          "text": [
            "+------+---+--------+--------+----+\n",
            "|   sex|age|province|   state| age|\n",
            "+------+---+--------+--------+----+\n",
            "|  male|50s|   Seoul|released|50.0|\n",
            "|  male|30s|   Seoul|released|30.0|\n",
            "|  male|50s|   Seoul|released|50.0|\n",
            "|  male|20s|   Seoul|released|20.0|\n",
            "|female|20s|   Seoul|released|20.0|\n",
            "+------+---+--------+--------+----+\n",
            "only showing top 5 rows\n",
            "\n"
          ]
        }
      ],
      "source": [
        "df_new.show(5)"
      ]
    },
    {
      "cell_type": "code",
      "execution_count": null,
      "id": "791ec1b8",
      "metadata": {
        "colab": {
          "base_uri": "https://localhost:8080/"
        },
        "id": "791ec1b8",
        "outputId": "09f5ac2f-840d-41bb-eb33-0af92615f3be"
      },
      "outputs": [
        {
          "name": "stdout",
          "output_type": "stream",
          "text": [
            "root\n",
            " |-- sex: string (nullable = true)\n",
            " |-- age: string (nullable = true)\n",
            " |-- province: string (nullable = true)\n",
            " |-- state: string (nullable = true)\n",
            " |-- age: double (nullable = true)\n",
            "\n"
          ]
        }
      ],
      "source": [
        "df_new.printSchema()"
      ]
    },
    {
      "cell_type": "markdown",
      "id": "d4a24c24",
      "metadata": {
        "id": "d4a24c24"
      },
      "source": [
        "## Machine Learning \n",
        "### Create a pipeline model to predict is_dead and evaluate the performance.\n",
        "- Use <b>StringIndexer</b> to transform <b>string</b> data type to indices.\n",
        "- Use <b>OneHotEncoder</b> to deal with categorical values.\n",
        "- Use <b>Imputer</b> to fill missing data with mean."
      ]
    },
    {
      "cell_type": "code",
      "execution_count": null,
      "id": "Fvim8HlFtS0j",
      "metadata": {
        "id": "Fvim8HlFtS0j"
      },
      "outputs": [],
      "source": [
        "train_df,val_df=df_7.randomSplit(weights=[0.8,0.2],seed=42)"
      ]
    },
    {
      "cell_type": "code",
      "execution_count": null,
      "id": "7a71806f",
      "metadata": {
        "id": "7a71806f"
      },
      "outputs": [],
      "source": [
        "col_to_index= 'province'\n",
        "indexed= col_to_index +'_index'\n",
        "ohe_index=indexed + '_ohe'\n",
        "col_to_impute='age'\n",
        "imputed= col_to_impute + '_impute'\n",
        "cols=['is_male',ohe_index,imputed]\n",
        "target='is_Dead'\n"
      ]
    },
    {
      "cell_type": "code",
      "execution_count": null,
      "id": "cHdpyNogq8Oz",
      "metadata": {
        "id": "cHdpyNogq8Oz"
      },
      "outputs": [],
      "source": [
        "string_indexer= StringIndexer(inputCol=col_to_index,outputCol=indexed)\n",
        "one_hot=OneHotEncoder(inputCol=indexed,outputCol=ohe_index)\n",
        "impute= Imputer(inputCol=col_to_impute,outputCol=imputed)\n",
        "vector_assembler=VectorAssembler(inputCols=cols,outputCol='features')"
      ]
    },
    {
      "cell_type": "code",
      "execution_count": null,
      "id": "fiHxN51ksStM",
      "metadata": {
        "id": "fiHxN51ksStM"
      },
      "outputs": [],
      "source": [
        "model=RandomForestClassifier(labelCol=target)\n",
        "pipeline=Pipeline(stages=[string_indexer,one_hot,impute,vector_assembler,model])"
      ]
    },
    {
      "cell_type": "code",
      "execution_count": null,
      "id": "zZ3hEMeVtA-d",
      "metadata": {
        "id": "zZ3hEMeVtA-d"
      },
      "outputs": [],
      "source": [
        "m= pipeline.fit(train_df)\n",
        "train= m.transform(train_df)\n",
        "val=m.transform(val_df)"
      ]
    },
    {
      "cell_type": "code",
      "execution_count": null,
      "id": "Vp87mtPrvRqF",
      "metadata": {
        "id": "Vp87mtPrvRqF"
      },
      "outputs": [],
      "source": [
        "evaluter= MulticlassClassificationEvaluator(labelCol=target)"
      ]
    },
    {
      "cell_type": "code",
      "execution_count": null,
      "id": "RuCzp2NqweL6",
      "metadata": {
        "colab": {
          "base_uri": "https://localhost:8080/"
        },
        "id": "RuCzp2NqweL6",
        "outputId": "5a64aea3-ed73-4d89-96ee-c534e24bc983"
      },
      "outputs": [
        {
          "data": {
            "text/plain": [
              "0.8274637311589544"
            ]
          },
          "execution_count": 186,
          "metadata": {},
          "output_type": "execute_result"
        }
      ],
      "source": [
        "evaluter.evaluate(train)"
      ]
    },
    {
      "cell_type": "code",
      "execution_count": null,
      "id": "c_jesZcRw-DK",
      "metadata": {
        "colab": {
          "base_uri": "https://localhost:8080/"
        },
        "id": "c_jesZcRw-DK",
        "outputId": "b23c5013-899a-4ca8-daae-95ce7a5adc48"
      },
      "outputs": [
        {
          "data": {
            "text/plain": [
              "0.8106712241684841"
            ]
          },
          "execution_count": 187,
          "metadata": {},
          "output_type": "execute_result"
        }
      ],
      "source": [
        "evaluter.evaluate(val)"
      ]
    },
    {
      "cell_type": "code",
      "execution_count": null,
      "id": "lNlVStDSxC3s",
      "metadata": {
        "id": "lNlVStDSxC3s"
      },
      "outputs": [],
      "source": [
        "train_pd=train.toPandas()\n",
        "val_pd=val.toPandas()"
      ]
    },
    {
      "cell_type": "code",
      "execution_count": null,
      "id": "FhlocXuwyfPG",
      "metadata": {
        "colab": {
          "base_uri": "https://localhost:8080/",
          "height": 424
        },
        "id": "FhlocXuwyfPG",
        "outputId": "e54648b4-e383-432c-d5e9-efaee6d17e65"
      },
      "outputs": [
        {
          "data": {
            "text/html": [
              "\n",
              "  <div id=\"df-02f8dd8f-0486-435c-ac2e-14e61c228034\">\n",
              "    <div class=\"colab-df-container\">\n",
              "      <div>\n",
              "<style scoped>\n",
              "    .dataframe tbody tr th:only-of-type {\n",
              "        vertical-align: middle;\n",
              "    }\n",
              "\n",
              "    .dataframe tbody tr th {\n",
              "        vertical-align: top;\n",
              "    }\n",
              "\n",
              "    .dataframe thead th {\n",
              "        text-align: right;\n",
              "    }\n",
              "</style>\n",
              "<table border=\"1\" class=\"dataframe\">\n",
              "  <thead>\n",
              "    <tr style=\"text-align: right;\">\n",
              "      <th></th>\n",
              "      <th>age</th>\n",
              "      <th>province</th>\n",
              "      <th>is_male</th>\n",
              "      <th>is_Dead</th>\n",
              "      <th>province_index</th>\n",
              "      <th>province_index_ohe</th>\n",
              "      <th>age_impute</th>\n",
              "      <th>features</th>\n",
              "      <th>rawPrediction</th>\n",
              "      <th>probability</th>\n",
              "      <th>prediction</th>\n",
              "    </tr>\n",
              "  </thead>\n",
              "  <tbody>\n",
              "    <tr>\n",
              "      <th>0</th>\n",
              "      <td>NaN</td>\n",
              "      <td>Busan</td>\n",
              "      <td>0</td>\n",
              "      <td>1</td>\n",
              "      <td>5.0</td>\n",
              "      <td>(0.0, 0.0, 0.0, 0.0, 0.0, 1.0, 0.0, 0.0, 0.0, ...</td>\n",
              "      <td>40.085979</td>\n",
              "      <td>(0.0, 0.0, 0.0, 0.0, 0.0, 0.0, 1.0, 0.0, 0.0, ...</td>\n",
              "      <td>[3.4734969621318217, 16.526503037868174]</td>\n",
              "      <td>[0.17367484810659112, 0.8263251518934088]</td>\n",
              "      <td>1.0</td>\n",
              "    </tr>\n",
              "    <tr>\n",
              "      <th>1</th>\n",
              "      <td>NaN</td>\n",
              "      <td>Busan</td>\n",
              "      <td>0</td>\n",
              "      <td>1</td>\n",
              "      <td>5.0</td>\n",
              "      <td>(0.0, 0.0, 0.0, 0.0, 0.0, 1.0, 0.0, 0.0, 0.0, ...</td>\n",
              "      <td>40.085979</td>\n",
              "      <td>(0.0, 0.0, 0.0, 0.0, 0.0, 0.0, 1.0, 0.0, 0.0, ...</td>\n",
              "      <td>[3.4734969621318217, 16.526503037868174]</td>\n",
              "      <td>[0.17367484810659112, 0.8263251518934088]</td>\n",
              "      <td>1.0</td>\n",
              "    </tr>\n",
              "    <tr>\n",
              "      <th>2</th>\n",
              "      <td>NaN</td>\n",
              "      <td>Gangwon-do</td>\n",
              "      <td>1</td>\n",
              "      <td>0</td>\n",
              "      <td>10.0</td>\n",
              "      <td>(0.0, 0.0, 0.0, 0.0, 0.0, 0.0, 0.0, 0.0, 0.0, ...</td>\n",
              "      <td>40.085979</td>\n",
              "      <td>(1.0, 0.0, 0.0, 0.0, 0.0, 0.0, 0.0, 0.0, 0.0, ...</td>\n",
              "      <td>[4.988938395626541, 15.011061604373456]</td>\n",
              "      <td>[0.2494469197813271, 0.750553080218673]</td>\n",
              "      <td>1.0</td>\n",
              "    </tr>\n",
              "    <tr>\n",
              "      <th>3</th>\n",
              "      <td>NaN</td>\n",
              "      <td>Gyeonggi-do</td>\n",
              "      <td>0</td>\n",
              "      <td>1</td>\n",
              "      <td>2.0</td>\n",
              "      <td>(0.0, 0.0, 1.0, 0.0, 0.0, 0.0, 0.0, 0.0, 0.0, ...</td>\n",
              "      <td>40.085979</td>\n",
              "      <td>(0.0, 0.0, 0.0, 1.0, 0.0, 0.0, 0.0, 0.0, 0.0, ...</td>\n",
              "      <td>[1.9674302636322023, 18.032569736367794]</td>\n",
              "      <td>[0.09837151318161014, 0.9016284868183898]</td>\n",
              "      <td>1.0</td>\n",
              "    </tr>\n",
              "    <tr>\n",
              "      <th>4</th>\n",
              "      <td>NaN</td>\n",
              "      <td>Gyeonggi-do</td>\n",
              "      <td>0</td>\n",
              "      <td>1</td>\n",
              "      <td>2.0</td>\n",
              "      <td>(0.0, 0.0, 1.0, 0.0, 0.0, 0.0, 0.0, 0.0, 0.0, ...</td>\n",
              "      <td>40.085979</td>\n",
              "      <td>(0.0, 0.0, 0.0, 1.0, 0.0, 0.0, 0.0, 0.0, 0.0, ...</td>\n",
              "      <td>[1.9674302636322023, 18.032569736367794]</td>\n",
              "      <td>[0.09837151318161014, 0.9016284868183898]</td>\n",
              "      <td>1.0</td>\n",
              "    </tr>\n",
              "  </tbody>\n",
              "</table>\n",
              "</div>\n",
              "      <button class=\"colab-df-convert\" onclick=\"convertToInteractive('df-02f8dd8f-0486-435c-ac2e-14e61c228034')\"\n",
              "              title=\"Convert this dataframe to an interactive table.\"\n",
              "              style=\"display:none;\">\n",
              "        \n",
              "  <svg xmlns=\"http://www.w3.org/2000/svg\" height=\"24px\"viewBox=\"0 0 24 24\"\n",
              "       width=\"24px\">\n",
              "    <path d=\"M0 0h24v24H0V0z\" fill=\"none\"/>\n",
              "    <path d=\"M18.56 5.44l.94 2.06.94-2.06 2.06-.94-2.06-.94-.94-2.06-.94 2.06-2.06.94zm-11 1L8.5 8.5l.94-2.06 2.06-.94-2.06-.94L8.5 2.5l-.94 2.06-2.06.94zm10 10l.94 2.06.94-2.06 2.06-.94-2.06-.94-.94-2.06-.94 2.06-2.06.94z\"/><path d=\"M17.41 7.96l-1.37-1.37c-.4-.4-.92-.59-1.43-.59-.52 0-1.04.2-1.43.59L10.3 9.45l-7.72 7.72c-.78.78-.78 2.05 0 2.83L4 21.41c.39.39.9.59 1.41.59.51 0 1.02-.2 1.41-.59l7.78-7.78 2.81-2.81c.8-.78.8-2.07 0-2.86zM5.41 20L4 18.59l7.72-7.72 1.47 1.35L5.41 20z\"/>\n",
              "  </svg>\n",
              "      </button>\n",
              "      \n",
              "  <style>\n",
              "    .colab-df-container {\n",
              "      display:flex;\n",
              "      flex-wrap:wrap;\n",
              "      gap: 12px;\n",
              "    }\n",
              "\n",
              "    .colab-df-convert {\n",
              "      background-color: #E8F0FE;\n",
              "      border: none;\n",
              "      border-radius: 50%;\n",
              "      cursor: pointer;\n",
              "      display: none;\n",
              "      fill: #1967D2;\n",
              "      height: 32px;\n",
              "      padding: 0 0 0 0;\n",
              "      width: 32px;\n",
              "    }\n",
              "\n",
              "    .colab-df-convert:hover {\n",
              "      background-color: #E2EBFA;\n",
              "      box-shadow: 0px 1px 2px rgba(60, 64, 67, 0.3), 0px 1px 3px 1px rgba(60, 64, 67, 0.15);\n",
              "      fill: #174EA6;\n",
              "    }\n",
              "\n",
              "    [theme=dark] .colab-df-convert {\n",
              "      background-color: #3B4455;\n",
              "      fill: #D2E3FC;\n",
              "    }\n",
              "\n",
              "    [theme=dark] .colab-df-convert:hover {\n",
              "      background-color: #434B5C;\n",
              "      box-shadow: 0px 1px 3px 1px rgba(0, 0, 0, 0.15);\n",
              "      filter: drop-shadow(0px 1px 2px rgba(0, 0, 0, 0.3));\n",
              "      fill: #FFFFFF;\n",
              "    }\n",
              "  </style>\n",
              "\n",
              "      <script>\n",
              "        const buttonEl =\n",
              "          document.querySelector('#df-02f8dd8f-0486-435c-ac2e-14e61c228034 button.colab-df-convert');\n",
              "        buttonEl.style.display =\n",
              "          google.colab.kernel.accessAllowed ? 'block' : 'none';\n",
              "\n",
              "        async function convertToInteractive(key) {\n",
              "          const element = document.querySelector('#df-02f8dd8f-0486-435c-ac2e-14e61c228034');\n",
              "          const dataTable =\n",
              "            await google.colab.kernel.invokeFunction('convertToInteractive',\n",
              "                                                     [key], {});\n",
              "          if (!dataTable) return;\n",
              "\n",
              "          const docLinkHtml = 'Like what you see? Visit the ' +\n",
              "            '<a target=\"_blank\" href=https://colab.research.google.com/notebooks/data_table.ipynb>data table notebook</a>'\n",
              "            + ' to learn more about interactive tables.';\n",
              "          element.innerHTML = '';\n",
              "          dataTable['output_type'] = 'display_data';\n",
              "          await google.colab.output.renderOutput(dataTable, element);\n",
              "          const docLink = document.createElement('div');\n",
              "          docLink.innerHTML = docLinkHtml;\n",
              "          element.appendChild(docLink);\n",
              "        }\n",
              "      </script>\n",
              "    </div>\n",
              "  </div>\n",
              "  "
            ],
            "text/plain": [
              "   age     province  is_male  is_Dead  province_index  \\\n",
              "0  NaN        Busan        0        1             5.0   \n",
              "1  NaN        Busan        0        1             5.0   \n",
              "2  NaN   Gangwon-do        1        0            10.0   \n",
              "3  NaN  Gyeonggi-do        0        1             2.0   \n",
              "4  NaN  Gyeonggi-do        0        1             2.0   \n",
              "\n",
              "                                  province_index_ohe  age_impute  \\\n",
              "0  (0.0, 0.0, 0.0, 0.0, 0.0, 1.0, 0.0, 0.0, 0.0, ...   40.085979   \n",
              "1  (0.0, 0.0, 0.0, 0.0, 0.0, 1.0, 0.0, 0.0, 0.0, ...   40.085979   \n",
              "2  (0.0, 0.0, 0.0, 0.0, 0.0, 0.0, 0.0, 0.0, 0.0, ...   40.085979   \n",
              "3  (0.0, 0.0, 1.0, 0.0, 0.0, 0.0, 0.0, 0.0, 0.0, ...   40.085979   \n",
              "4  (0.0, 0.0, 1.0, 0.0, 0.0, 0.0, 0.0, 0.0, 0.0, ...   40.085979   \n",
              "\n",
              "                                            features  \\\n",
              "0  (0.0, 0.0, 0.0, 0.0, 0.0, 0.0, 1.0, 0.0, 0.0, ...   \n",
              "1  (0.0, 0.0, 0.0, 0.0, 0.0, 0.0, 1.0, 0.0, 0.0, ...   \n",
              "2  (1.0, 0.0, 0.0, 0.0, 0.0, 0.0, 0.0, 0.0, 0.0, ...   \n",
              "3  (0.0, 0.0, 0.0, 1.0, 0.0, 0.0, 0.0, 0.0, 0.0, ...   \n",
              "4  (0.0, 0.0, 0.0, 1.0, 0.0, 0.0, 0.0, 0.0, 0.0, ...   \n",
              "\n",
              "                              rawPrediction  \\\n",
              "0  [3.4734969621318217, 16.526503037868174]   \n",
              "1  [3.4734969621318217, 16.526503037868174]   \n",
              "2   [4.988938395626541, 15.011061604373456]   \n",
              "3  [1.9674302636322023, 18.032569736367794]   \n",
              "4  [1.9674302636322023, 18.032569736367794]   \n",
              "\n",
              "                                 probability  prediction  \n",
              "0  [0.17367484810659112, 0.8263251518934088]         1.0  \n",
              "1  [0.17367484810659112, 0.8263251518934088]         1.0  \n",
              "2    [0.2494469197813271, 0.750553080218673]         1.0  \n",
              "3  [0.09837151318161014, 0.9016284868183898]         1.0  \n",
              "4  [0.09837151318161014, 0.9016284868183898]         1.0  "
            ]
          },
          "execution_count": 189,
          "metadata": {},
          "output_type": "execute_result"
        }
      ],
      "source": [
        "train_pd.head()"
      ]
    },
    {
      "cell_type": "code",
      "execution_count": null,
      "id": "dN80eoGkxv6m",
      "metadata": {
        "id": "dN80eoGkxv6m"
      },
      "outputs": [],
      "source": [
        "y_val=val_pd['is_Dead']\n",
        "y_pred= val_pd['prediction']"
      ]
    },
    {
      "cell_type": "code",
      "execution_count": null,
      "id": "fZyBJ84uy029",
      "metadata": {
        "colab": {
          "base_uri": "https://localhost:8080/"
        },
        "id": "fZyBJ84uy029",
        "outputId": "9cbacaf6-6e5b-4fc0-edc4-62e7d31ba9b2"
      },
      "outputs": [
        {
          "name": "stdout",
          "output_type": "stream",
          "text": [
            "              precision    recall  f1-score   support\n",
            "\n",
            "           0       0.71      0.66      0.68       305\n",
            "           1       0.85      0.88      0.87       694\n",
            "\n",
            "    accuracy                           0.81       999\n",
            "   macro avg       0.78      0.77      0.77       999\n",
            "weighted avg       0.81      0.81      0.81       999\n",
            "\n"
          ]
        }
      ],
      "source": [
        "print(classification_report(y_val, y_pred))"
      ]
    },
    {
      "cell_type": "code",
      "execution_count": null,
      "id": "35iVg4HDzF3-",
      "metadata": {
        "id": "35iVg4HDzF3-"
      },
      "outputs": [],
      "source": []
    }
  ],
  "metadata": {
    "colab": {
      "collapsed_sections": [
        "59c16346",
        "ec32fa0c",
        "4ec324f5",
        "967b2466",
        "8603d7c0",
        "e15264a9",
        "43cdf846",
        "d31e3a87",
        "32df47a6",
        "1d540282",
        "cb004277",
        "e0da4318",
        "b70edf17",
        "73683674",
        "d4424228"
      ],
      "name": "Copy of Practical_Day_1_DF_SQL_ML.ipynb",
      "provenance": []
    },
    "kernelspec": {
      "display_name": "Python 3 (ipykernel)",
      "language": "python",
      "name": "python3"
    },
    "language_info": {
      "codemirror_mode": {
        "name": "ipython",
        "version": 3
      },
      "file_extension": ".py",
      "mimetype": "text/x-python",
      "name": "python",
      "nbconvert_exporter": "python",
      "pygments_lexer": "ipython3",
      "version": "3.9.12"
    }
  },
  "nbformat": 4,
  "nbformat_minor": 5
}
